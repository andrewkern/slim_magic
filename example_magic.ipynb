{
 "cells": [
  {
   "cell_type": "code",
   "execution_count": 1,
   "id": "6f2ce73a",
   "metadata": {},
   "outputs": [],
   "source": [
    "%load_ext slim_magic\n",
    "\n",
    "import pandas as pd\n",
    "import numpy as np\n",
    "from matplotlib import pyplot as plt"
   ]
  },
  {
   "cell_type": "code",
   "execution_count": 2,
   "id": "7c43afa1",
   "metadata": {},
   "outputs": [
    {
     "ename": "NameError",
     "evalue": "name 'num_reps' is not defined",
     "output_type": "error",
     "traceback": [
      "\u001b[0;31m---------------------------------------------------------------------------\u001b[0m",
      "\u001b[0;31mNameError\u001b[0m                                 Traceback (most recent call last)",
      "Input \u001b[0;32mIn [2]\u001b[0m, in \u001b[0;36m<module>\u001b[0;34m\u001b[0m\n\u001b[0;32m----> 1\u001b[0m \u001b[43mget_ipython\u001b[49m\u001b[43m(\u001b[49m\u001b[43m)\u001b[49m\u001b[38;5;241;43m.\u001b[39;49m\u001b[43mrun_cell_magic\u001b[49m\u001b[43m(\u001b[49m\u001b[38;5;124;43m'\u001b[39;49m\u001b[38;5;124;43mslim_stats_reps_cstack\u001b[39;49m\u001b[38;5;124;43m'\u001b[39;49m\u001b[43m,\u001b[49m\u001b[43m \u001b[49m\u001b[38;5;124;43m'\u001b[39;49m\u001b[38;5;124;43m200\u001b[39;49m\u001b[38;5;124;43m'\u001b[39;49m\u001b[43m,\u001b[49m\u001b[43m \u001b[49m\u001b[38;5;124;43m'\u001b[39;49m\u001b[38;5;124;43m// set up a single locus simulation of drift\u001b[39;49m\u001b[38;5;130;43;01m\\n\u001b[39;49;00m\u001b[38;5;124;43minitialize()\u001b[39;49m\u001b[38;5;130;43;01m\\n\u001b[39;49;00m\u001b[38;5;124;43m{\u001b[39;49m\u001b[38;5;130;43;01m\\n\u001b[39;49;00m\u001b[38;5;124;43m    // set the overall mutation rate\u001b[39;49m\u001b[38;5;130;43;01m\\n\u001b[39;49;00m\u001b[38;5;124;43m    initializeMutationRate(0);\u001b[39;49m\u001b[38;5;130;43;01m\\n\u001b[39;49;00m\u001b[38;5;124;43m    // m1 mutation type: neutral\u001b[39;49m\u001b[38;5;130;43;01m\\n\u001b[39;49;00m\u001b[38;5;124;43m    initializeMutationType(\u001b[39;49m\u001b[38;5;124;43m\"\u001b[39;49m\u001b[38;5;124;43mm1\u001b[39;49m\u001b[38;5;124;43m\"\u001b[39;49m\u001b[38;5;124;43m, 0.5, \u001b[39;49m\u001b[38;5;124;43m\"\u001b[39;49m\u001b[38;5;124;43mf\u001b[39;49m\u001b[38;5;124;43m\"\u001b[39;49m\u001b[38;5;124;43m, 0.0);\u001b[39;49m\u001b[38;5;130;43;01m\\n\u001b[39;49;00m\u001b[38;5;124;43m    // g1 genomic element type: uses m1 probability 1\u001b[39;49m\u001b[38;5;130;43;01m\\n\u001b[39;49;00m\u001b[38;5;124;43m    initializeGenomicElementType(\u001b[39;49m\u001b[38;5;124;43m\"\u001b[39;49m\u001b[38;5;124;43mg1\u001b[39;49m\u001b[38;5;124;43m\"\u001b[39;49m\u001b[38;5;124;43m, c(m1), c(1.0));\u001b[39;49m\u001b[38;5;130;43;01m\\n\u001b[39;49;00m\u001b[38;5;124;43m    // uniform chromosome of length 1 site\u001b[39;49m\u001b[38;5;130;43;01m\\n\u001b[39;49;00m\u001b[38;5;124;43m    initializeGenomicElement(g1, 0, 0);\u001b[39;49m\u001b[38;5;130;43;01m\\n\u001b[39;49;00m\u001b[38;5;124;43m    // uniform recombination along the chromosome\u001b[39;49m\u001b[38;5;130;43;01m\\n\u001b[39;49;00m\u001b[38;5;124;43m    initializeRecombinationRate(1e-8);\u001b[39;49m\u001b[38;5;130;43;01m\\n\u001b[39;49;00m\u001b[38;5;124;43m    suppressWarnings(T);\u001b[39;49m\u001b[38;5;130;43;01m\\n\u001b[39;49;00m\u001b[38;5;124;43m}\u001b[39;49m\u001b[38;5;130;43;01m\\n\u001b[39;49;00m\u001b[38;5;130;43;01m\\n\u001b[39;49;00m\u001b[38;5;124;43m// create a population of 100 individuals\u001b[39;49m\u001b[38;5;130;43;01m\\n\u001b[39;49;00m\u001b[38;5;124;43m1 \u001b[39;49m\u001b[38;5;124;43m{\u001b[39;49m\u001b[38;5;130;43;01m\\n\u001b[39;49;00m\u001b[38;5;124;43m    sim.addSubpop(\u001b[39;49m\u001b[38;5;124;43m\"\u001b[39;49m\u001b[38;5;124;43mp1\u001b[39;49m\u001b[38;5;124;43m\"\u001b[39;49m\u001b[38;5;124;43m, 100);\u001b[39;49m\u001b[38;5;130;43;01m\\n\u001b[39;49;00m\u001b[38;5;124;43m    // sample 100 haploid genomes \u001b[39;49m\u001b[38;5;130;43;01m\\n\u001b[39;49;00m\u001b[38;5;124;43m    target = sample(p1.genomes, 100);\u001b[39;49m\u001b[38;5;130;43;01m\\n\u001b[39;49;00m\u001b[38;5;124;43m    // add a mutation to those genomes\u001b[39;49m\u001b[38;5;130;43;01m\\n\u001b[39;49;00m\u001b[38;5;124;43m    // H_0 = 0.5 here\u001b[39;49m\u001b[38;5;130;43;01m\\n\u001b[39;49;00m\u001b[38;5;124;43m    target.addNewMutation(m1,0, 0);\u001b[39;49m\u001b[38;5;130;43;01m\\n\u001b[39;49;00m\u001b[38;5;124;43m    log = sim.createLogFile(\u001b[39;49m\u001b[38;5;124;43m\"\u001b[39;49m\u001b[38;5;124;43m/dev/stdout\u001b[39;49m\u001b[38;5;124;43m\"\u001b[39;49m\u001b[38;5;124;43m, logInterval=1);\u001b[39;49m\u001b[38;5;130;43;01m\\n\u001b[39;49;00m\u001b[38;5;124;43m    log.addGeneration();\u001b[39;49m\u001b[38;5;130;43;01m\\n\u001b[39;49;00m\u001b[38;5;124;43m    log.addCustomColumn(\u001b[39;49m\u001b[38;5;124;43m\"\u001b[39;49m\u001b[38;5;124;43mH\u001b[39;49m\u001b[38;5;124;43m\"\u001b[39;49m\u001b[38;5;124;43m, \u001b[39;49m\u001b[38;5;124;43m\"\u001b[39;49m\u001b[38;5;124;43mcalcHeterozygosity(p1.genomes);\u001b[39;49m\u001b[38;5;124;43m\"\u001b[39;49m\u001b[38;5;124;43m); \u001b[39;49m\u001b[38;5;130;43;01m\\n\u001b[39;49;00m\u001b[38;5;124;43m}\u001b[39;49m\u001b[38;5;130;43;01m\\n\u001b[39;49;00m\u001b[38;5;130;43;01m\\n\u001b[39;49;00m\u001b[38;5;124;43m// run to generation 0\u001b[39;49m\u001b[38;5;130;43;01m\\n\u001b[39;49;00m\u001b[38;5;124;43m300 late() \u001b[39;49m\u001b[38;5;124;43m{\u001b[39;49m\u001b[38;5;130;43;01m\\n\u001b[39;49;00m\u001b[38;5;124;43m    sim.simulationFinished();\u001b[39;49m\u001b[38;5;130;43;01m\\n\u001b[39;49;00m\u001b[38;5;124;43m    }\u001b[39;49m\u001b[38;5;130;43;01m\\n\u001b[39;49;00m\u001b[38;5;124;43m'\u001b[39;49m\u001b[43m)\u001b[49m\n",
      "File \u001b[0;32m~/miniconda3/envs/slim_magic/lib/python3.8/site-packages/ipython-8.0.1-py3.8.egg/IPython/core/interactiveshell.py:2257\u001b[0m, in \u001b[0;36mInteractiveShell.run_cell_magic\u001b[0;34m(self, magic_name, line, cell)\u001b[0m\n\u001b[1;32m   2255\u001b[0m \u001b[38;5;28;01mwith\u001b[39;00m \u001b[38;5;28mself\u001b[39m\u001b[38;5;241m.\u001b[39mbuiltin_trap:\n\u001b[1;32m   2256\u001b[0m     args \u001b[38;5;241m=\u001b[39m (magic_arg_s, cell)\n\u001b[0;32m-> 2257\u001b[0m     result \u001b[38;5;241m=\u001b[39m \u001b[43mfn\u001b[49m\u001b[43m(\u001b[49m\u001b[38;5;241;43m*\u001b[39;49m\u001b[43margs\u001b[49m\u001b[43m,\u001b[49m\u001b[43m \u001b[49m\u001b[38;5;241;43m*\u001b[39;49m\u001b[38;5;241;43m*\u001b[39;49m\u001b[43mkwargs\u001b[49m\u001b[43m)\u001b[49m\n\u001b[1;32m   2258\u001b[0m \u001b[38;5;28;01mreturn\u001b[39;00m result\n",
      "File \u001b[0;32m~/github/slim_magic/slim_magic/slim_magic.py:58\u001b[0m, in \u001b[0;36mSlimMagic.slim_stats_reps_cstack\u001b[0;34m(self, reps, cell)\u001b[0m\n\u001b[1;32m     44\u001b[0m \u001b[38;5;124;03m\"\"\"\u001b[39;00m\n\u001b[1;32m     45\u001b[0m \u001b[38;5;124;03mslim_stats_reps_cstack returns a pandas df in which\u001b[39;00m\n\u001b[1;32m     46\u001b[0m \u001b[38;5;124;03mreps number of replicate SLiM simulations have been\u001b[39;00m\n\u001b[0;32m   (...)\u001b[0m\n\u001b[1;32m     55\u001b[0m \u001b[38;5;124;03m\u001b[39;00m\n\u001b[1;32m     56\u001b[0m \u001b[38;5;124;03m\"\"\"\u001b[39;00m\n\u001b[1;32m     57\u001b[0m script \u001b[38;5;241m=\u001b[39m cell\n\u001b[0;32m---> 58\u001b[0m n \u001b[38;5;241m=\u001b[39m \u001b[38;5;28mint\u001b[39m(\u001b[43mnum_reps\u001b[49m)\n\u001b[1;32m     59\u001b[0m aList \u001b[38;5;241m=\u001b[39m []\n\u001b[1;32m     60\u001b[0m \u001b[38;5;28;01mfor\u001b[39;00m i \u001b[38;5;129;01min\u001b[39;00m \u001b[38;5;28mrange\u001b[39m(n):\n",
      "\u001b[0;31mNameError\u001b[0m: name 'num_reps' is not defined"
     ]
    }
   ],
   "source": [
    "%%slim_stats_reps_cstack 200\n",
    "// set up a single locus simulation of drift\n",
    "initialize()\n",
    "{\n",
    "    // set the overall mutation rate\n",
    "    initializeMutationRate(0);\n",
    "    // m1 mutation type: neutral\n",
    "    initializeMutationType(\"m1\", 0.5, \"f\", 0.0);\n",
    "    // g1 genomic element type: uses m1 probability 1\n",
    "    initializeGenomicElementType(\"g1\", c(m1), c(1.0));\n",
    "    // uniform chromosome of length 1 site\n",
    "    initializeGenomicElement(g1, 0, 0);\n",
    "    // uniform recombination along the chromosome\n",
    "    initializeRecombinationRate(1e-8);\n",
    "    suppressWarnings(T);\n",
    "}\n",
    "\n",
    "// create a population of 100 individuals\n",
    "1 {\n",
    "    sim.addSubpop(\"p1\", 100);\n",
    "    // sample 100 haploid genomes \n",
    "    target = sample(p1.genomes, 100);\n",
    "    // add a mutation to those genomes\n",
    "    // H_0 = 0.5 here\n",
    "    target.addNewMutation(m1,0, 0);\n",
    "    log = sim.createLogFile(\"/dev/stdout\", logInterval=1);\n",
    "    log.addGeneration();\n",
    "    log.addCustomColumn(\"H\", \"calcHeterozygosity(p1.genomes);\"); \n",
    "}\n",
    "\n",
    "// run to generation 0\n",
    "300 late() {\n",
    "    sim.simulationFinished();\n",
    "    }\n"
   ]
  },
  {
   "cell_type": "code",
   "execution_count": null,
   "id": "2464b773",
   "metadata": {},
   "outputs": [],
   "source": [
    "x = _\n"
   ]
  },
  {
   "cell_type": "code",
   "execution_count": null,
   "id": "94f70a09",
   "metadata": {},
   "outputs": [],
   "source": [
    "# function for drift expectation\n",
    "def exp_decay_drift(H0, N, gens):\n",
    "    res = [H0]\n",
    "    h = H0\n",
    "    for i in range(gens):\n",
    "        tmp = h * (1 - (1 / (2*N)))\n",
    "        res.append(tmp)\n",
    "        h = tmp\n",
    "    return res\n",
    "\n",
    "e = exp_decay_drift(0.5, 100, 299)"
   ]
  },
  {
   "cell_type": "markdown",
   "id": "e8ae3e39",
   "metadata": {},
   "source": [
    "plot mean Heterozygosity across reps versus the expected value"
   ]
  },
  {
   "cell_type": "code",
   "execution_count": null,
   "id": "acf366c0",
   "metadata": {},
   "outputs": [],
   "source": [
    "x.mean(axis=1).plot(ylabel=\"heterozygosity\", label=\"simulated mean\", legend=True)\n",
    "pd.Series(e).plot(label=\"theory\",legend=\"True\")"
   ]
  },
  {
   "cell_type": "markdown",
   "id": "31783dc2",
   "metadata": {},
   "source": [
    "## Hardy Weinberg"
   ]
  },
  {
   "cell_type": "code",
   "execution_count": null,
   "id": "cd2c7c73",
   "metadata": {},
   "outputs": [],
   "source": [
    "%%slim_stats_reps_rstack 10\n",
    "// set up a single locus simulation of drift\n",
    "initialize()\n",
    "{\n",
    "    // set the overall mutation rate\n",
    "    initializeMutationRate(0);\n",
    "    // m1 mutation type: neutral\n",
    "    initializeMutationType(\"m1\", 0.5, \"f\", 0.0);\n",
    "    // g1 genomic element type: uses m1 probability 1\n",
    "    initializeGenomicElementType(\"g1\", c(m1), c(1.0));\n",
    "    // uniform chromosome of length 1 site\n",
    "    initializeGenomicElement(g1, 0, 0);\n",
    "    // uniform recombination along the chromosome\n",
    "    initializeRecombinationRate(1e-8);\n",
    "    suppressWarnings(T);\n",
    "}\n",
    "\n",
    "// create a population of 100 individuals\n",
    "1 {\n",
    "    sim.addSubpop(\"p1\", 100);\n",
    "    // sample 100 haploid genomes \n",
    "    target = sample(p1.genomes, 100);\n",
    "    // add a mutation to those genomes\n",
    "    // H_0 = 0.5 here\n",
    "    target.addNewMutation(m1,0, 0);\n",
    "    cat(\"generation,p,x11,x12,x22\\\\n\");\n",
    "}\n",
    "1:300 late(){\n",
    "    inds = p1.sampleIndividuals(100);\n",
    "    ind_count = inds.countOfMutationsOfType(m1);\n",
    "    counts = c(0, 0, 0);\n",
    "    for (x in ind_count)\n",
    "        counts[x] = counts[x] + 1;\n",
    "    counts = counts / 100;\n",
    "    freqs = sim.mutationFrequencies(p1);\n",
    "    if (length(freqs) > 0.0)\n",
    "        catn(sim.generation + \",\" + freqs + \",\" + paste(counts, sep=\",\"));\n",
    "    }\n",
    "// run to generation 0\n",
    "300 late() {\n",
    "    sim.simulationFinished();\n",
    "    }\n"
   ]
  },
  {
   "cell_type": "code",
   "execution_count": null,
   "id": "7636a626",
   "metadata": {},
   "outputs": [],
   "source": [
    "# get output from slim_magic\n",
    "df = _"
   ]
  },
  {
   "cell_type": "markdown",
   "id": "cedd4df7",
   "metadata": {},
   "source": [
    "## HWE Expectations\n",
    "let's write a function to compute the HW expected genotype frequencies from the allele frequency, $p$"
   ]
  },
  {
   "cell_type": "code",
   "execution_count": null,
   "id": "c84b6c68",
   "metadata": {},
   "outputs": [],
   "source": [
    "def hwe(p):\n",
    "    return np.array([p**2, 2 * p * (1 - p), (1 - p)**2])\n",
    "\n",
    "#run that function for 100 pts between (0,1)\n",
    "expected = hwe(np.linspace(0,1,100))"
   ]
  },
  {
   "cell_type": "code",
   "execution_count": null,
   "id": "4ef9da25",
   "metadata": {},
   "outputs": [],
   "source": [
    "#plot simulated\n",
    "plt.scatter(df.p, df.x11, label=\"A_11 frequency\")\n",
    "plt.scatter(df.p, df.x12, label=\"A_12 frequency\")\n",
    "plt.scatter(df.p, df.x22, label=\"A_22 frequency\")\n",
    "\n",
    "\n",
    "#plot expected\n",
    "plt.plot(np.linspace(0,1,100),expected[0,:], c=\"red\", linestyle=\"dotted\", label=\"HWE expected\")\n",
    "plt.plot(np.linspace(0,1,100),expected[1,:], c=\"red\", linestyle=\"dotted\")\n",
    "plt.plot(np.linspace(0,1,100),expected[2,:], c=\"red\", linestyle=\"dotted\")\n",
    "\n",
    "plt.legend()\n",
    "plt.xlabel(\"allele frequency\")\n",
    "plt.ylabel(\"genotype frequency\")"
   ]
  },
  {
   "cell_type": "markdown",
   "id": "296ded01",
   "metadata": {},
   "source": [
    "# Deviations from HWE\n",
    "let's simulate a deviation from HWE and compare the output to above"
   ]
  },
  {
   "cell_type": "code",
   "execution_count": null,
   "id": "ae58f8e2",
   "metadata": {},
   "outputs": [],
   "source": [
    "%%slim_stats_reps_rstack 10\n",
    "// set up a single locus simulation of drift\n",
    "initialize()\n",
    "{\n",
    "    // set the overall mutation rate\n",
    "    initializeMutationRate(0);\n",
    "    // m1 mutation type: neutral\n",
    "    initializeMutationType(\"m1\", 0.5, \"f\", 0.0);\n",
    "    // g1 genomic element type: uses m1 probability 1\n",
    "    initializeGenomicElementType(\"g1\", c(m1), c(1.0));\n",
    "    // uniform chromosome of length 1 site\n",
    "    initializeGenomicElement(g1, 0, 0);\n",
    "    // uniform recombination along the chromosome\n",
    "    initializeRecombinationRate(1e-8);\n",
    "    suppressWarnings(T);\n",
    "}\n",
    "\n",
    "// create a population of 100 individuals\n",
    "1 {\n",
    "    sim.addSubpop(\"p1\", 50);\n",
    "    sim.addSubpop(\"p2\", 50);\n",
    "    // sample 100 haploid genomes \n",
    "    target = sample(p1.genomes, 50);\n",
    "    // add a mutation to those genomes\n",
    "    // H_0 = 0.5 here\n",
    "    target.addNewMutation(m1,0, 0);\n",
    "    cat(\"generation,p,x11,x12,x22\\\\n\");\n",
    "}\n",
    "1:300 late(){\n",
    "    inds1 = p1.sampleIndividuals(50);\n",
    "    inds2 = p2.sampleIndividuals(50);\n",
    "    inds = c(inds1, inds2);\n",
    "    ind_count = inds.countOfMutationsOfType(m1);\n",
    "    counts = c(0, 0, 0);\n",
    "    for (x in ind_count)\n",
    "        counts[x] = counts[x] + 1;\n",
    "    counts = counts / 100;\n",
    "    freqs1 = sim.mutationFrequencies(p1);\n",
    "    freqs2 = sim.mutationFrequencies(p2);\n",
    "    freqs = freqs1 + freqs2;\n",
    "    if (length(freqs) > 0.0)\n",
    "        catn(sim.generation + \",\" + freqs + \",\" + paste(counts, sep=\",\"));\n",
    "    }\n",
    "// run to generation 0\n",
    "300 late() {\n",
    "    sim.simulationFinished();\n",
    "    }\n"
   ]
  },
  {
   "cell_type": "code",
   "execution_count": null,
   "id": "dc22f7cf",
   "metadata": {},
   "outputs": [],
   "source": [
    "# get output from slim_magic\n",
    "df = _\n",
    "#plot simulated\n",
    "plt.scatter(df.p, df.x11, label=\"A_11 frequency\")\n",
    "plt.scatter(df.p, df.x12, label=\"A_12 frequency\")\n",
    "plt.scatter(df.p, df.x22, label=\"A_22 frequency\")\n",
    "\n",
    "\n",
    "#plot expected\n",
    "plt.plot(np.linspace(0,1,100),expected[0,:], c=\"red\", linestyle=\"dotted\", label=\"HWE expected\")\n",
    "plt.plot(np.linspace(0,1,100),expected[1,:], c=\"red\", linestyle=\"dotted\")\n",
    "plt.plot(np.linspace(0,1,100),expected[2,:], c=\"red\", linestyle=\"dotted\")\n",
    "\n",
    "plt.legend()\n",
    "plt.xlabel(\"allele frequency\")\n",
    "plt.ylabel(\"genotype frequency\")"
   ]
  },
  {
   "cell_type": "code",
   "execution_count": null,
   "id": "dbfa7cc9",
   "metadata": {},
   "outputs": [],
   "source": [
    "# Plot F as a function of allele frequency here\n",
    "F = 1.0 - (df.x12 / (2 * df.p * (1-df.p)))\n",
    "plt.scatter(df.p,F)"
   ]
  },
  {
   "cell_type": "markdown",
   "id": "2e0d1ce4",
   "metadata": {},
   "source": [
    "## Tree Sequences"
   ]
  },
  {
   "cell_type": "code",
   "execution_count": null,
   "id": "35b97c8e",
   "metadata": {},
   "outputs": [],
   "source": [
    "%%slim_ts\n",
    "// set up a simulation of drift\n",
    "initialize()\n",
    "{\n",
    "    // set tree seq recording\n",
    "    initializeTreeSeq(checkCoalescence=T);\n",
    "    // set the overall mutation rate\n",
    "    initializeMutationRate(0);\n",
    "    // m1 mutation type: neutral\n",
    "    initializeMutationType(\"m1\", 0.5, \"f\", 0.0);\n",
    "    // g1 genomic element type: uses m1 probability 1\n",
    "    initializeGenomicElementType(\"g1\", c(m1), c(1.0));\n",
    "    // uniform chromosome of length 1 site\n",
    "    initializeGenomicElement(g1, 0, 10000);\n",
    "    // uniform recombination along the chromosome\n",
    "    initializeRecombinationRate(1e-5);\n",
    "    suppressWarnings(T);\n",
    "}\n",
    "\n",
    "// create a population of 100 individuals\n",
    "1 {\n",
    "    sim.addSubpop(\"p1\", 100);\n",
    "    // sample 100 haploid genomes \n",
    "    target = sample(p1.genomes, 100);\n",
    "    // add a mutation to those genomes\n",
    "    // H_0 = 0.5 here\n",
    "    target.addNewMutation(m1,0, 0);\n",
    "    log = sim.createLogFile(\"/dev/stdout\", logInterval=1);\n",
    "    log.addGeneration();\n",
    "    log.addCustomColumn(\"H\", \"calcHeterozygosity(p1.genomes);\"); \n",
    "}\n",
    "\n",
    "// run to generation 0\n",
    "300 late() {\n",
    "    sim.treeSeqOutput(\"tmp.trees\");\n",
    "    sim.simulationFinished();\n",
    "    }"
   ]
  },
  {
   "cell_type": "code",
   "execution_count": null,
   "id": "1e9f5c27",
   "metadata": {},
   "outputs": [],
   "source": [
    "ts = _"
   ]
  },
  {
   "cell_type": "code",
   "execution_count": null,
   "id": "4cde194a",
   "metadata": {},
   "outputs": [],
   "source": [
    "ts.num_trees"
   ]
  },
  {
   "cell_type": "code",
   "execution_count": null,
   "id": "d3f20b81",
   "metadata": {},
   "outputs": [],
   "source": []
  }
 ],
 "metadata": {
  "kernelspec": {
   "display_name": "Python 3 (ipykernel)",
   "language": "python",
   "name": "python3"
  },
  "language_info": {
   "codemirror_mode": {
    "name": "ipython",
    "version": 3
   },
   "file_extension": ".py",
   "mimetype": "text/x-python",
   "name": "python",
   "nbconvert_exporter": "python",
   "pygments_lexer": "ipython3",
   "version": "3.8.12"
  }
 },
 "nbformat": 4,
 "nbformat_minor": 5
}
